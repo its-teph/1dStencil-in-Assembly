{
  "cells": [
    {
      "cell_type": "markdown",
      "source": [
        "#Submitted by:\n",
        "\n",
        "Name: Stephanie Joy R. Susada\n",
        "Section: S11"
      ],
      "metadata": {
        "id": "pEw1RUqZkpoa"
      }
    },
    {
      "cell_type": "markdown",
      "source": [
        "**1D Stencil in CUDA**"
      ],
      "metadata": {
        "id": "HV5TZeDZh8vi"
      }
    },
    {
      "cell_type": "code",
      "execution_count": 22,
      "metadata": {
        "colab": {
          "base_uri": "https://localhost:8080/"
        },
        "id": "Pdkv6PhxkiLC",
        "outputId": "1f10317b-18cc-427f-c0c7-e4812c7c50bb"
      },
      "outputs": [
        {
          "output_type": "stream",
          "name": "stdout",
          "text": [
            "Overwriting 1d-stencil.cu\n"
          ]
        }
      ],
      "source": [
        "%%writefile 1d-stencil.cu\n",
        "\n",
        "#include <cuda_profiler_api.h>\n",
        "#include <stdio.h>\n",
        "#include <stdlib.h>\n",
        "#include <time.h>\n",
        "#include <math.h>\n",
        "\n",
        "//c Kernel\n",
        "void stencilOperation(int n, int* X, long long int* Y) {\n",
        "\tint i;\n",
        "\tfor (i = 3; i < n - 3; i++) {\n",
        "\t\tY[i] = X[i - 3] + X[i - 2] + X[i - 1] + X[i] + X[i + 1] + X[i + 2] + X[i + 3];\n",
        "\t}\n",
        "}\n",
        "// Kernel function\n",
        "__global__ void stencilKernel(const int* X, int* Y, int ARRAY_SIZE)\n",
        "{\n",
        "    int i = blockIdx.x * blockDim.x + threadIdx.x;\n",
        "\n",
        "    if (i >= 3 && i < ARRAY_SIZE - 3)\n",
        "    {\n",
        "        Y[i] = X[i-3] + X[i-2] + X[i-1] + X[i] + X[i+1] + X[i+2] + X[i+3];\n",
        "    }\n",
        "}\n",
        "\n",
        "int main()\n",
        "{\n",
        "    int ARRAY_SIZE = pow(2,26);\n",
        "    int count = 0, i;\n",
        "    int* h_X = (int*)malloc(ARRAY_SIZE * sizeof(int));\n",
        "    int* h_Y = (int*)malloc(ARRAY_SIZE * sizeof(int));\n",
        "    int* d_X;\n",
        "    int* d_Y;\n",
        "    long long int* C_ans = (long long int*)malloc(ARRAY_SIZE * sizeof(long long int));\n",
        "\n",
        "    //For testing only\n",
        "    for(int i = 0; i < ARRAY_SIZE; i++){\n",
        "        h_X[i] = i+1;\n",
        "    }\n",
        "\n",
        "    /*\n",
        "    srand(time(0));\n",
        "    for(int i = 0; i < ARRAY_SIZE; i++){\n",
        "        h_X[i] = (rand() % 10) + 1;\n",
        "    }*/\n",
        "\n",
        "    cudaMalloc((void**)&d_X, ARRAY_SIZE * sizeof(int));\n",
        "    cudaMalloc((void**)&d_Y, ARRAY_SIZE * sizeof(int));\n",
        "\n",
        "    cudaMemcpy(d_X, h_X, ARRAY_SIZE * sizeof(int), cudaMemcpyHostToDevice);\n",
        "\n",
        "    int blockSize = 256;\n",
        "    int gridSize = (ARRAY_SIZE + blockSize - 1) / blockSize;\n",
        "\n",
        "    stencilKernel<<<gridSize, blockSize>>>(d_X, d_Y, ARRAY_SIZE);\n",
        "    cudaMemcpy(h_Y, d_Y, ARRAY_SIZE * sizeof(int), cudaMemcpyDeviceToHost);\n",
        "\n",
        "    // Print output\n",
        "    int counter = 0;\n",
        "\n",
        "   for (int i = 3; i < ARRAY_SIZE - 3 && counter < 5; i++)\n",
        "   {\n",
        "    printf(\"%d = %d\\n\", i-2, h_Y[i]);\n",
        "    counter++;\n",
        "   }\n",
        "\n",
        "   stencilOperation(ARRAY_SIZE, h_X, C_ans);\n",
        "\n",
        "   for(i = 3; i< ARRAY_SIZE -3; i++){\n",
        "    if(C_ans[i] != h_Y[i]){\n",
        "      count++;\n",
        "    }\n",
        "   }\n",
        "\n",
        "   if(count != 0){\n",
        "    printf(\"\\nThere is %d error\\n\\n\", count);\n",
        "   } else (\"\\n0 error. Output is correct\\n\\n\");\n",
        "\n",
        "    cudaFree(d_X);\n",
        "    cudaFree(d_Y);\n",
        "\n",
        "\n",
        "    free(h_X);\n",
        "    free(h_Y);\n",
        "\n",
        "    return 0;\n",
        "}"
      ]
    },
    {
      "cell_type": "code",
      "source": [
        "%%shell\n",
        "nvcc 1d-stencil.cu -o 1d-stencil"
      ],
      "metadata": {
        "colab": {
          "base_uri": "https://localhost:8080/"
        },
        "id": "DUNjbKFpegvE",
        "outputId": "f609bdaa-cc6c-41f0-ca52-cb796810f497"
      },
      "execution_count": 23,
      "outputs": [
        {
          "output_type": "stream",
          "name": "stdout",
          "text": [
            "\u001b[01m\u001b[0m\u001b[01m1d-stencil.cu(77)\u001b[0m: \u001b[01;35mwarning\u001b[0m #174-D: expression has no effect\n",
            "\n",
            "\u001b[01m\u001b[0m\u001b[01m1d-stencil.cu(77)\u001b[0m: \u001b[01;35mwarning\u001b[0m #174-D: expression has no effect\n",
            "\n"
          ]
        },
        {
          "output_type": "execute_result",
          "data": {
            "text/plain": []
          },
          "metadata": {},
          "execution_count": 23
        }
      ]
    },
    {
      "cell_type": "code",
      "source": [
        "%%shell\n",
        "nvprof ./1d-stencil"
      ],
      "metadata": {
        "colab": {
          "base_uri": "https://localhost:8080/"
        },
        "id": "AgPJG2yBjxnI",
        "outputId": "1ee406ef-d236-4b46-b29a-f8a8e9c3bbcc"
      },
      "execution_count": 24,
      "outputs": [
        {
          "output_type": "stream",
          "name": "stdout",
          "text": [
            "==7640== NVPROF is profiling process 7640, command: ./1d-stencil\n",
            "1 = 28\n",
            "2 = 35\n",
            "3 = 42\n",
            "4 = 49\n",
            "5 = 56\n",
            "==7640== Profiling application: ./1d-stencil\n",
            "==7640== Profiling result:\n",
            "            Type  Time(%)      Time     Calls       Avg       Min       Max  Name\n",
            " GPU activities:   73.22%  172.04ms         1  172.04ms  172.04ms  172.04ms  [CUDA memcpy DtoH]\n",
            "                   25.49%  59.891ms         1  59.891ms  59.891ms  59.891ms  [CUDA memcpy HtoD]\n",
            "                    1.29%  3.0212ms         1  3.0212ms  3.0212ms  3.0212ms  stencilKernel(int const *, int*, int)\n",
            "      API calls:   51.34%  236.43ms         2  118.21ms  60.076ms  176.35ms  cudaMemcpy\n",
            "                   48.02%  221.14ms         2  110.57ms  501.48us  220.64ms  cudaMalloc\n",
            "                    0.59%  2.7263ms         2  1.3631ms  430.41us  2.2959ms  cudaFree\n",
            "                    0.03%  119.57us       101  1.1830us     137ns  50.270us  cuDeviceGetAttribute\n",
            "                    0.01%  34.375us         1  34.375us  34.375us  34.375us  cudaLaunchKernel\n",
            "                    0.01%  23.552us         1  23.552us  23.552us  23.552us  cuDeviceGetName\n",
            "                    0.00%  6.7070us         1  6.7070us  6.7070us  6.7070us  cuDeviceGetPCIBusId\n",
            "                    0.00%  1.7120us         3     570ns     198ns  1.2880us  cuDeviceGetCount\n",
            "                    0.00%     827ns         2     413ns     181ns     646ns  cuDeviceGet\n",
            "                    0.00%     448ns         1     448ns     448ns     448ns  cuModuleGetLoadingMode\n",
            "                    0.00%     346ns         1     346ns     346ns     346ns  cuDeviceTotalMem\n",
            "                    0.00%     220ns         1     220ns     220ns     220ns  cuDeviceGetUuid\n"
          ]
        },
        {
          "output_type": "execute_result",
          "data": {
            "text/plain": []
          },
          "metadata": {},
          "execution_count": 24
        }
      ]
    }
  ],
  "metadata": {
    "kernelspec": {
      "display_name": "Python 3",
      "name": "python3"
    },
    "language_info": {
      "name": "python",
      "version": "3.10.5"
    },
    "orig_nbformat": 4,
    "colab": {
      "provenance": [],
      "gpuType": "T4"
    },
    "accelerator": "GPU"
  },
  "nbformat": 4,
  "nbformat_minor": 0
}